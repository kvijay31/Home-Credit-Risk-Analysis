{
 "cells": [
  {
   "cell_type": "code",
   "execution_count": 2,
   "id": "8082a30c",
   "metadata": {},
   "outputs": [],
   "source": [
    "import pandas as pd\n",
    "import numpy as np \n",
    "import matplotlib.pyplot as plt\n",
    "import matplotlib.mlab as mlab\n",
    "import matplotlib as plt \n",
    "import seaborn as sn\n",
    "from statistics import mode, multimode"
   ]
  },
  {
   "cell_type": "markdown",
   "id": "7cc94b74",
   "metadata": {},
   "source": [
    "First data table called POS "
   ]
  },
  {
   "cell_type": "code",
   "execution_count": 6,
   "id": "3a7043dd",
   "metadata": {},
   "outputs": [],
   "source": [
    "df = pd.read_csv(r'..\\POS_CASH_balance.csv')"
   ]
  },
  {
   "cell_type": "code",
   "execution_count": 7,
   "id": "a9aa20ce",
   "metadata": {},
   "outputs": [],
   "source": [
    "POS_Updated = df.rename(columns = {\"NAME_CONTRACT_STATUS\": \"CONTRACT_STATUS\",\n",
    "                     \"CNT_INSTALMENT_FUTURE\": \"PENDING_INSTALLMENTS\",\n",
    "                     \"SK_DPD\": \"DAYS_PAST_DUE\",\n",
    "                     \"SK_DPD_DEF\": \"DPD_LOW_LOANS\",\n",
    "                    \"CNT_INSTALMENT\":\"OLD_PREV_TERMS\"})"
   ]
  },
  {
   "cell_type": "code",
   "execution_count": 8,
   "id": "f73b4366",
   "metadata": {},
   "outputs": [
    {
     "data": {
      "text/html": [
       "<div>\n",
       "<style scoped>\n",
       "    .dataframe tbody tr th:only-of-type {\n",
       "        vertical-align: middle;\n",
       "    }\n",
       "\n",
       "    .dataframe tbody tr th {\n",
       "        vertical-align: top;\n",
       "    }\n",
       "\n",
       "    .dataframe thead th {\n",
       "        text-align: right;\n",
       "    }\n",
       "</style>\n",
       "<table border=\"1\" class=\"dataframe\">\n",
       "  <thead>\n",
       "    <tr style=\"text-align: right;\">\n",
       "      <th></th>\n",
       "      <th>SK_ID_PREV</th>\n",
       "      <th>SK_ID_CURR</th>\n",
       "      <th>MONTHS_BALANCE</th>\n",
       "      <th>OLD_PREV_TERMS</th>\n",
       "      <th>PENDING_INSTALLMENTS</th>\n",
       "      <th>CONTRACT_STATUS</th>\n",
       "      <th>DAYS_PAST_DUE</th>\n",
       "      <th>DPD_LOW_LOANS</th>\n",
       "    </tr>\n",
       "  </thead>\n",
       "  <tbody>\n",
       "    <tr>\n",
       "      <th>0</th>\n",
       "      <td>1803195</td>\n",
       "      <td>182943</td>\n",
       "      <td>-31</td>\n",
       "      <td>48.0</td>\n",
       "      <td>45.0</td>\n",
       "      <td>Active</td>\n",
       "      <td>0</td>\n",
       "      <td>0</td>\n",
       "    </tr>\n",
       "    <tr>\n",
       "      <th>1</th>\n",
       "      <td>1715348</td>\n",
       "      <td>367990</td>\n",
       "      <td>-33</td>\n",
       "      <td>36.0</td>\n",
       "      <td>35.0</td>\n",
       "      <td>Active</td>\n",
       "      <td>0</td>\n",
       "      <td>0</td>\n",
       "    </tr>\n",
       "    <tr>\n",
       "      <th>2</th>\n",
       "      <td>1784872</td>\n",
       "      <td>397406</td>\n",
       "      <td>-32</td>\n",
       "      <td>12.0</td>\n",
       "      <td>9.0</td>\n",
       "      <td>Active</td>\n",
       "      <td>0</td>\n",
       "      <td>0</td>\n",
       "    </tr>\n",
       "    <tr>\n",
       "      <th>3</th>\n",
       "      <td>1903291</td>\n",
       "      <td>269225</td>\n",
       "      <td>-35</td>\n",
       "      <td>48.0</td>\n",
       "      <td>42.0</td>\n",
       "      <td>Active</td>\n",
       "      <td>0</td>\n",
       "      <td>0</td>\n",
       "    </tr>\n",
       "    <tr>\n",
       "      <th>4</th>\n",
       "      <td>2341044</td>\n",
       "      <td>334279</td>\n",
       "      <td>-35</td>\n",
       "      <td>36.0</td>\n",
       "      <td>35.0</td>\n",
       "      <td>Active</td>\n",
       "      <td>0</td>\n",
       "      <td>0</td>\n",
       "    </tr>\n",
       "  </tbody>\n",
       "</table>\n",
       "</div>"
      ],
      "text/plain": [
       "   SK_ID_PREV  SK_ID_CURR  MONTHS_BALANCE  OLD_PREV_TERMS  \\\n",
       "0     1803195      182943             -31            48.0   \n",
       "1     1715348      367990             -33            36.0   \n",
       "2     1784872      397406             -32            12.0   \n",
       "3     1903291      269225             -35            48.0   \n",
       "4     2341044      334279             -35            36.0   \n",
       "\n",
       "   PENDING_INSTALLMENTS CONTRACT_STATUS  DAYS_PAST_DUE  DPD_LOW_LOANS  \n",
       "0                  45.0          Active              0              0  \n",
       "1                  35.0          Active              0              0  \n",
       "2                   9.0          Active              0              0  \n",
       "3                  42.0          Active              0              0  \n",
       "4                  35.0          Active              0              0  "
      ]
     },
     "execution_count": 8,
     "metadata": {},
     "output_type": "execute_result"
    }
   ],
   "source": [
    "POS_Updated.head(5)"
   ]
  },
  {
   "cell_type": "markdown",
   "id": "0b695292",
   "metadata": {},
   "source": [
    "Check for how many entries are under the same ID "
   ]
  },
  {
   "cell_type": "code",
   "execution_count": 9,
   "id": "16e99679",
   "metadata": {},
   "outputs": [
    {
     "data": {
      "text/html": [
       "<div>\n",
       "<style scoped>\n",
       "    .dataframe tbody tr th:only-of-type {\n",
       "        vertical-align: middle;\n",
       "    }\n",
       "\n",
       "    .dataframe tbody tr th {\n",
       "        vertical-align: top;\n",
       "    }\n",
       "\n",
       "    .dataframe thead th {\n",
       "        text-align: right;\n",
       "    }\n",
       "</style>\n",
       "<table border=\"1\" class=\"dataframe\">\n",
       "  <thead>\n",
       "    <tr style=\"text-align: right;\">\n",
       "      <th></th>\n",
       "      <th>SK_ID_PREV</th>\n",
       "      <th>SK_ID_CURR</th>\n",
       "      <th>MONTHS_BALANCE</th>\n",
       "      <th>OLD_PREV_TERMS</th>\n",
       "      <th>PENDING_INSTALLMENTS</th>\n",
       "      <th>CONTRACT_STATUS</th>\n",
       "      <th>DAYS_PAST_DUE</th>\n",
       "      <th>DPD_LOW_LOANS</th>\n",
       "    </tr>\n",
       "  </thead>\n",
       "  <tbody>\n",
       "    <tr>\n",
       "      <th>1</th>\n",
       "      <td>1715348</td>\n",
       "      <td>367990</td>\n",
       "      <td>-33</td>\n",
       "      <td>36.0</td>\n",
       "      <td>35.0</td>\n",
       "      <td>Active</td>\n",
       "      <td>0</td>\n",
       "      <td>0</td>\n",
       "    </tr>\n",
       "    <tr>\n",
       "      <th>314363</th>\n",
       "      <td>1715348</td>\n",
       "      <td>367990</td>\n",
       "      <td>-18</td>\n",
       "      <td>36.0</td>\n",
       "      <td>20.0</td>\n",
       "      <td>Active</td>\n",
       "      <td>0</td>\n",
       "      <td>0</td>\n",
       "    </tr>\n",
       "    <tr>\n",
       "      <th>562444</th>\n",
       "      <td>1715348</td>\n",
       "      <td>367990</td>\n",
       "      <td>-21</td>\n",
       "      <td>36.0</td>\n",
       "      <td>23.0</td>\n",
       "      <td>Active</td>\n",
       "      <td>0</td>\n",
       "      <td>0</td>\n",
       "    </tr>\n",
       "    <tr>\n",
       "      <th>682460</th>\n",
       "      <td>1715348</td>\n",
       "      <td>367990</td>\n",
       "      <td>-34</td>\n",
       "      <td>36.0</td>\n",
       "      <td>36.0</td>\n",
       "      <td>Active</td>\n",
       "      <td>0</td>\n",
       "      <td>0</td>\n",
       "    </tr>\n",
       "    <tr>\n",
       "      <th>1824052</th>\n",
       "      <td>1715348</td>\n",
       "      <td>367990</td>\n",
       "      <td>-26</td>\n",
       "      <td>36.0</td>\n",
       "      <td>28.0</td>\n",
       "      <td>Active</td>\n",
       "      <td>0</td>\n",
       "      <td>0</td>\n",
       "    </tr>\n",
       "    <tr>\n",
       "      <th>1845104</th>\n",
       "      <td>1715348</td>\n",
       "      <td>367990</td>\n",
       "      <td>-19</td>\n",
       "      <td>36.0</td>\n",
       "      <td>21.0</td>\n",
       "      <td>Active</td>\n",
       "      <td>0</td>\n",
       "      <td>0</td>\n",
       "    </tr>\n",
       "    <tr>\n",
       "      <th>1846916</th>\n",
       "      <td>1715348</td>\n",
       "      <td>367990</td>\n",
       "      <td>-23</td>\n",
       "      <td>36.0</td>\n",
       "      <td>25.0</td>\n",
       "      <td>Active</td>\n",
       "      <td>0</td>\n",
       "      <td>0</td>\n",
       "    </tr>\n",
       "    <tr>\n",
       "      <th>3193464</th>\n",
       "      <td>1715348</td>\n",
       "      <td>367990</td>\n",
       "      <td>-25</td>\n",
       "      <td>36.0</td>\n",
       "      <td>27.0</td>\n",
       "      <td>Active</td>\n",
       "      <td>0</td>\n",
       "      <td>0</td>\n",
       "    </tr>\n",
       "    <tr>\n",
       "      <th>3210170</th>\n",
       "      <td>1715348</td>\n",
       "      <td>367990</td>\n",
       "      <td>-27</td>\n",
       "      <td>36.0</td>\n",
       "      <td>29.0</td>\n",
       "      <td>Active</td>\n",
       "      <td>0</td>\n",
       "      <td>0</td>\n",
       "    </tr>\n",
       "    <tr>\n",
       "      <th>3337866</th>\n",
       "      <td>1715348</td>\n",
       "      <td>367990</td>\n",
       "      <td>-30</td>\n",
       "      <td>36.0</td>\n",
       "      <td>32.0</td>\n",
       "      <td>Active</td>\n",
       "      <td>0</td>\n",
       "      <td>0</td>\n",
       "    </tr>\n",
       "    <tr>\n",
       "      <th>3378256</th>\n",
       "      <td>1715348</td>\n",
       "      <td>367990</td>\n",
       "      <td>-29</td>\n",
       "      <td>36.0</td>\n",
       "      <td>31.0</td>\n",
       "      <td>Active</td>\n",
       "      <td>0</td>\n",
       "      <td>0</td>\n",
       "    </tr>\n",
       "    <tr>\n",
       "      <th>4040100</th>\n",
       "      <td>1715348</td>\n",
       "      <td>367990</td>\n",
       "      <td>-24</td>\n",
       "      <td>36.0</td>\n",
       "      <td>26.0</td>\n",
       "      <td>Active</td>\n",
       "      <td>0</td>\n",
       "      <td>0</td>\n",
       "    </tr>\n",
       "    <tr>\n",
       "      <th>4718425</th>\n",
       "      <td>1715348</td>\n",
       "      <td>367990</td>\n",
       "      <td>-22</td>\n",
       "      <td>36.0</td>\n",
       "      <td>24.0</td>\n",
       "      <td>Active</td>\n",
       "      <td>0</td>\n",
       "      <td>0</td>\n",
       "    </tr>\n",
       "    <tr>\n",
       "      <th>4719412</th>\n",
       "      <td>1715348</td>\n",
       "      <td>367990</td>\n",
       "      <td>-31</td>\n",
       "      <td>36.0</td>\n",
       "      <td>33.0</td>\n",
       "      <td>Active</td>\n",
       "      <td>0</td>\n",
       "      <td>0</td>\n",
       "    </tr>\n",
       "    <tr>\n",
       "      <th>4988014</th>\n",
       "      <td>1715348</td>\n",
       "      <td>367990</td>\n",
       "      <td>-28</td>\n",
       "      <td>36.0</td>\n",
       "      <td>30.0</td>\n",
       "      <td>Active</td>\n",
       "      <td>0</td>\n",
       "      <td>0</td>\n",
       "    </tr>\n",
       "    <tr>\n",
       "      <th>5047330</th>\n",
       "      <td>1715348</td>\n",
       "      <td>367990</td>\n",
       "      <td>-17</td>\n",
       "      <td>36.0</td>\n",
       "      <td>19.0</td>\n",
       "      <td>Active</td>\n",
       "      <td>0</td>\n",
       "      <td>0</td>\n",
       "    </tr>\n",
       "    <tr>\n",
       "      <th>5277488</th>\n",
       "      <td>1715348</td>\n",
       "      <td>367990</td>\n",
       "      <td>-32</td>\n",
       "      <td>36.0</td>\n",
       "      <td>34.0</td>\n",
       "      <td>Active</td>\n",
       "      <td>0</td>\n",
       "      <td>0</td>\n",
       "    </tr>\n",
       "    <tr>\n",
       "      <th>5420722</th>\n",
       "      <td>1715348</td>\n",
       "      <td>367990</td>\n",
       "      <td>-16</td>\n",
       "      <td>18.0</td>\n",
       "      <td>0.0</td>\n",
       "      <td>Completed</td>\n",
       "      <td>0</td>\n",
       "      <td>0</td>\n",
       "    </tr>\n",
       "    <tr>\n",
       "      <th>6348041</th>\n",
       "      <td>1715348</td>\n",
       "      <td>367990</td>\n",
       "      <td>-20</td>\n",
       "      <td>36.0</td>\n",
       "      <td>22.0</td>\n",
       "      <td>Active</td>\n",
       "      <td>0</td>\n",
       "      <td>0</td>\n",
       "    </tr>\n",
       "  </tbody>\n",
       "</table>\n",
       "</div>"
      ],
      "text/plain": [
       "         SK_ID_PREV  SK_ID_CURR  MONTHS_BALANCE  OLD_PREV_TERMS  \\\n",
       "1           1715348      367990             -33            36.0   \n",
       "314363      1715348      367990             -18            36.0   \n",
       "562444      1715348      367990             -21            36.0   \n",
       "682460      1715348      367990             -34            36.0   \n",
       "1824052     1715348      367990             -26            36.0   \n",
       "1845104     1715348      367990             -19            36.0   \n",
       "1846916     1715348      367990             -23            36.0   \n",
       "3193464     1715348      367990             -25            36.0   \n",
       "3210170     1715348      367990             -27            36.0   \n",
       "3337866     1715348      367990             -30            36.0   \n",
       "3378256     1715348      367990             -29            36.0   \n",
       "4040100     1715348      367990             -24            36.0   \n",
       "4718425     1715348      367990             -22            36.0   \n",
       "4719412     1715348      367990             -31            36.0   \n",
       "4988014     1715348      367990             -28            36.0   \n",
       "5047330     1715348      367990             -17            36.0   \n",
       "5277488     1715348      367990             -32            36.0   \n",
       "5420722     1715348      367990             -16            18.0   \n",
       "6348041     1715348      367990             -20            36.0   \n",
       "\n",
       "         PENDING_INSTALLMENTS CONTRACT_STATUS  DAYS_PAST_DUE  DPD_LOW_LOANS  \n",
       "1                        35.0          Active              0              0  \n",
       "314363                   20.0          Active              0              0  \n",
       "562444                   23.0          Active              0              0  \n",
       "682460                   36.0          Active              0              0  \n",
       "1824052                  28.0          Active              0              0  \n",
       "1845104                  21.0          Active              0              0  \n",
       "1846916                  25.0          Active              0              0  \n",
       "3193464                  27.0          Active              0              0  \n",
       "3210170                  29.0          Active              0              0  \n",
       "3337866                  32.0          Active              0              0  \n",
       "3378256                  31.0          Active              0              0  \n",
       "4040100                  26.0          Active              0              0  \n",
       "4718425                  24.0          Active              0              0  \n",
       "4719412                  33.0          Active              0              0  \n",
       "4988014                  30.0          Active              0              0  \n",
       "5047330                  19.0          Active              0              0  \n",
       "5277488                  34.0          Active              0              0  \n",
       "5420722                   0.0       Completed              0              0  \n",
       "6348041                  22.0          Active              0              0  "
      ]
     },
     "execution_count": 9,
     "metadata": {},
     "output_type": "execute_result"
    }
   ],
   "source": [
    "POS_Updated[POS_Updated['SK_ID_PREV']==1715348]"
   ]
  },
  {
   "cell_type": "markdown",
   "id": "3f7b986e",
   "metadata": {},
   "source": [
    "# Amount of data "
   ]
  },
  {
   "cell_type": "code",
   "execution_count": 10,
   "id": "fd3a6c07",
   "metadata": {},
   "outputs": [
    {
     "data": {
      "text/plain": [
       "(10001358, 8)"
      ]
     },
     "execution_count": 10,
     "metadata": {},
     "output_type": "execute_result"
    }
   ],
   "source": [
    "POS_Updated.shape"
   ]
  },
  {
   "cell_type": "code",
   "execution_count": 11,
   "id": "fc72ea01",
   "metadata": {},
   "outputs": [
    {
     "data": {
      "text/plain": [
       "SK_ID_PREV                  0\n",
       "SK_ID_CURR                  0\n",
       "MONTHS_BALANCE              0\n",
       "OLD_PREV_TERMS          26071\n",
       "PENDING_INSTALLMENTS    26087\n",
       "CONTRACT_STATUS             0\n",
       "DAYS_PAST_DUE               0\n",
       "DPD_LOW_LOANS               0\n",
       "dtype: int64"
      ]
     },
     "execution_count": 11,
     "metadata": {},
     "output_type": "execute_result"
    }
   ],
   "source": [
    "# determine how much missing data is there \n",
    "POS_Updated.isnull().sum()"
   ]
  },
  {
   "cell_type": "code",
   "execution_count": 12,
   "id": "95fc2896",
   "metadata": {},
   "outputs": [],
   "source": [
    "# fill in that missing data with 0 \n",
    "\n",
    "POS_Updated.fillna(0, inplace = True)"
   ]
  },
  {
   "cell_type": "code",
   "execution_count": 13,
   "id": "2c7e4848",
   "metadata": {},
   "outputs": [
    {
     "name": "stdout",
     "output_type": "stream",
     "text": [
      "SK_ID_PREV - 0.0%\n",
      "SK_ID_CURR - 0.0%\n",
      "MONTHS_BALANCE - 0.0%\n",
      "OLD_PREV_TERMS - 0.0%\n",
      "PENDING_INSTALLMENTS - 0.0%\n",
      "CONTRACT_STATUS - 0.0%\n",
      "DAYS_PAST_DUE - 0.0%\n",
      "DPD_LOW_LOANS - 0.0%\n"
     ]
    },
    {
     "data": {
      "text/plain": [
       "'This produces a list below showing the percentage of missing values for each of the features.'"
      ]
     },
     "execution_count": 13,
     "metadata": {},
     "output_type": "execute_result"
    }
   ],
   "source": [
    "# check again \n",
    "for col in POS_Updated.columns:\n",
    "    pct_missing = np.mean(POS_Updated[col].isnull())\n",
    "    print('{} - {}%'.format(col, (pct_missing*100)))\n",
    "\"This produces a list below showing the percentage of missing values for each of the features.\""
   ]
  },
  {
   "cell_type": "markdown",
   "id": "d23b681d",
   "metadata": {},
   "source": [
    "Check the correlation matrix to find patterns "
   ]
  },
  {
   "cell_type": "code",
   "execution_count": 14,
   "id": "ef922b19",
   "metadata": {},
   "outputs": [
    {
     "data": {
      "text/plain": [
       "<AxesSubplot:>"
      ]
     },
     "execution_count": 14,
     "metadata": {},
     "output_type": "execute_result"
    },
    {
     "data": {
      "image/png": "[encoded data removed]",
      "text/plain": [
       "<Figure size 432x288 with 2 Axes>"
      ]
     },
     "metadata": {
      "needs_background": "light"
     },
     "output_type": "display_data"
    }
   ],
   "source": [
    "matrix_table = POS_Updated.corr()\n",
    "sn.heatmap(matrix_table, annot=True)"
   ]
  },
  {
   "cell_type": "code",
   "execution_count": 12,
   "id": "ee64c216",
   "metadata": {},
   "outputs": [],
   "source": [
    " # from here we can see that old prev terms and pending intallments have a high correlation "
   ]
  },
  {
   "cell_type": "markdown",
   "id": "129c7d6c",
   "metadata": {},
   "source": [
    "Covert multiple entries into 1 under the same old ID "
   ]
  },
  {
   "cell_type": "markdown",
   "id": "176e1edd",
   "metadata": {},
   "source": [
    "1. For old prev terms take the mode of it  \n",
    "2. Pending installments sum the all up \n",
    "3. For contract Status cross check to see what is the status at the lowest months balance based on the ID\n",
    "4. For Days past due sum the all up \n",
    "5. DPD low loans also sum the all up \n",
    "6. Drop the column months balance as it is highly correlated with old prev terms"
   ]
  },
  {
   "cell_type": "code",
   "execution_count": 15,
   "id": "59dc0f00",
   "metadata": {},
   "outputs": [
    {
     "data": {
      "text/html": [
       "<div>\n",
       "<style scoped>\n",
       "    .dataframe tbody tr th:only-of-type {\n",
       "        vertical-align: middle;\n",
       "    }\n",
       "\n",
       "    .dataframe tbody tr th {\n",
       "        vertical-align: top;\n",
       "    }\n",
       "\n",
       "    .dataframe thead th {\n",
       "        text-align: right;\n",
       "    }\n",
       "</style>\n",
       "<table border=\"1\" class=\"dataframe\">\n",
       "  <thead>\n",
       "    <tr style=\"text-align: right;\">\n",
       "      <th></th>\n",
       "      <th>SK_ID_PREV</th>\n",
       "      <th>SK_ID_CURR</th>\n",
       "      <th>MONTHS_BALANCE</th>\n",
       "      <th>OLD_PREV_TERMS</th>\n",
       "      <th>PENDING_INSTALLMENTS</th>\n",
       "      <th>CONTRACT_STATUS</th>\n",
       "      <th>DAYS_PAST_DUE</th>\n",
       "      <th>DPD_LOW_LOANS</th>\n",
       "    </tr>\n",
       "  </thead>\n",
       "  <tbody>\n",
       "    <tr>\n",
       "      <th>2909264</th>\n",
       "      <td>1484443</td>\n",
       "      <td>100250</td>\n",
       "      <td>-12</td>\n",
       "      <td>12.0</td>\n",
       "      <td>12.0</td>\n",
       "      <td>Signed</td>\n",
       "      <td>0</td>\n",
       "      <td>0</td>\n",
       "    </tr>\n",
       "    <tr>\n",
       "      <th>5813929</th>\n",
       "      <td>1484443</td>\n",
       "      <td>100250</td>\n",
       "      <td>-4</td>\n",
       "      <td>12.0</td>\n",
       "      <td>4.0</td>\n",
       "      <td>Active</td>\n",
       "      <td>0</td>\n",
       "      <td>0</td>\n",
       "    </tr>\n",
       "    <tr>\n",
       "      <th>5817205</th>\n",
       "      <td>1484443</td>\n",
       "      <td>100250</td>\n",
       "      <td>-6</td>\n",
       "      <td>12.0</td>\n",
       "      <td>6.0</td>\n",
       "      <td>Active</td>\n",
       "      <td>0</td>\n",
       "      <td>0</td>\n",
       "    </tr>\n",
       "    <tr>\n",
       "      <th>6665286</th>\n",
       "      <td>1484443</td>\n",
       "      <td>100250</td>\n",
       "      <td>-3</td>\n",
       "      <td>12.0</td>\n",
       "      <td>3.0</td>\n",
       "      <td>Active</td>\n",
       "      <td>0</td>\n",
       "      <td>0</td>\n",
       "    </tr>\n",
       "    <tr>\n",
       "      <th>6812119</th>\n",
       "      <td>1484443</td>\n",
       "      <td>100250</td>\n",
       "      <td>-7</td>\n",
       "      <td>12.0</td>\n",
       "      <td>7.0</td>\n",
       "      <td>Active</td>\n",
       "      <td>0</td>\n",
       "      <td>0</td>\n",
       "    </tr>\n",
       "    <tr>\n",
       "      <th>7307119</th>\n",
       "      <td>1484443</td>\n",
       "      <td>100250</td>\n",
       "      <td>-5</td>\n",
       "      <td>12.0</td>\n",
       "      <td>5.0</td>\n",
       "      <td>Active</td>\n",
       "      <td>0</td>\n",
       "      <td>0</td>\n",
       "    </tr>\n",
       "    <tr>\n",
       "      <th>7360241</th>\n",
       "      <td>1484443</td>\n",
       "      <td>100250</td>\n",
       "      <td>-2</td>\n",
       "      <td>12.0</td>\n",
       "      <td>2.0</td>\n",
       "      <td>Active</td>\n",
       "      <td>0</td>\n",
       "      <td>0</td>\n",
       "    </tr>\n",
       "    <tr>\n",
       "      <th>8980249</th>\n",
       "      <td>1484443</td>\n",
       "      <td>100250</td>\n",
       "      <td>-11</td>\n",
       "      <td>12.0</td>\n",
       "      <td>11.0</td>\n",
       "      <td>Active</td>\n",
       "      <td>0</td>\n",
       "      <td>0</td>\n",
       "    </tr>\n",
       "    <tr>\n",
       "      <th>9231285</th>\n",
       "      <td>1484443</td>\n",
       "      <td>100250</td>\n",
       "      <td>-10</td>\n",
       "      <td>12.0</td>\n",
       "      <td>11.0</td>\n",
       "      <td>Active</td>\n",
       "      <td>0</td>\n",
       "      <td>0</td>\n",
       "    </tr>\n",
       "    <tr>\n",
       "      <th>9339695</th>\n",
       "      <td>1484443</td>\n",
       "      <td>100250</td>\n",
       "      <td>-8</td>\n",
       "      <td>12.0</td>\n",
       "      <td>9.0</td>\n",
       "      <td>Active</td>\n",
       "      <td>0</td>\n",
       "      <td>0</td>\n",
       "    </tr>\n",
       "    <tr>\n",
       "      <th>9339790</th>\n",
       "      <td>1484443</td>\n",
       "      <td>100250</td>\n",
       "      <td>-9</td>\n",
       "      <td>12.0</td>\n",
       "      <td>10.0</td>\n",
       "      <td>Active</td>\n",
       "      <td>0</td>\n",
       "      <td>0</td>\n",
       "    </tr>\n",
       "    <tr>\n",
       "      <th>9685322</th>\n",
       "      <td>1484443</td>\n",
       "      <td>100250</td>\n",
       "      <td>-1</td>\n",
       "      <td>12.0</td>\n",
       "      <td>1.0</td>\n",
       "      <td>Active</td>\n",
       "      <td>0</td>\n",
       "      <td>0</td>\n",
       "    </tr>\n",
       "  </tbody>\n",
       "</table>\n",
       "</div>"
      ],
      "text/plain": [
       "         SK_ID_PREV  SK_ID_CURR  MONTHS_BALANCE  OLD_PREV_TERMS  \\\n",
       "2909264     1484443      100250             -12            12.0   \n",
       "5813929     1484443      100250              -4            12.0   \n",
       "5817205     1484443      100250              -6            12.0   \n",
       "6665286     1484443      100250              -3            12.0   \n",
       "6812119     1484443      100250              -7            12.0   \n",
       "7307119     1484443      100250              -5            12.0   \n",
       "7360241     1484443      100250              -2            12.0   \n",
       "8980249     1484443      100250             -11            12.0   \n",
       "9231285     1484443      100250             -10            12.0   \n",
       "9339695     1484443      100250              -8            12.0   \n",
       "9339790     1484443      100250              -9            12.0   \n",
       "9685322     1484443      100250              -1            12.0   \n",
       "\n",
       "         PENDING_INSTALLMENTS CONTRACT_STATUS  DAYS_PAST_DUE  DPD_LOW_LOANS  \n",
       "2909264                  12.0          Signed              0              0  \n",
       "5813929                   4.0          Active              0              0  \n",
       "5817205                   6.0          Active              0              0  \n",
       "6665286                   3.0          Active              0              0  \n",
       "6812119                   7.0          Active              0              0  \n",
       "7307119                   5.0          Active              0              0  \n",
       "7360241                   2.0          Active              0              0  \n",
       "8980249                  11.0          Active              0              0  \n",
       "9231285                  11.0          Active              0              0  \n",
       "9339695                   9.0          Active              0              0  \n",
       "9339790                  10.0          Active              0              0  \n",
       "9685322                   1.0          Active              0              0  "
      ]
     },
     "execution_count": 15,
     "metadata": {},
     "output_type": "execute_result"
    }
   ],
   "source": [
    "POS_Updated[POS_Updated['SK_ID_PREV']==1484443]"
   ]
  },
  {
   "cell_type": "code",
   "execution_count": 16,
   "id": "c6bf2cb3",
   "metadata": {},
   "outputs": [],
   "source": [
    "POS_Updated_Final = POS_Updated.groupby('SK_ID_CURR').agg({\"MONTHS_BALANCE\": \"max\",'OLD_PREV_TERMS':'mean',\n",
    "'DAYS_PAST_DUE': 'sum',\n",
    "'DPD_LOW_LOANS': 'sum',\n",
    "'PENDING_INSTALLMENTS': 'sum', \"CONTRACT_STATUS\": \"count\"}).reset_index()"
   ]
  },
  {
   "cell_type": "code",
   "execution_count": 17,
   "id": "271239da",
   "metadata": {},
   "outputs": [
    {
     "data": {
      "text/plain": [
       "(337252, 7)"
      ]
     },
     "execution_count": 17,
     "metadata": {},
     "output_type": "execute_result"
    }
   ],
   "source": [
    "POS_Updated_Final.shape"
   ]
  },
  {
   "cell_type": "code",
   "execution_count": null,
   "id": "3a90d9c4",
   "metadata": {},
   "outputs": [],
   "source": [
    "## Extarcting the final status for given SK_ID_PREV"
   ]
  },
  {
   "cell_type": "code",
   "execution_count": 56,
   "id": "65cec1a6",
   "metadata": {},
   "outputs": [
    {
     "data": {
      "text/plain": [
       "524"
      ]
     },
     "execution_count": 56,
     "metadata": {},
     "output_type": "execute_result"
    }
   ],
   "source": [
    "len(status)"
   ]
  },
  {
   "cell_type": "code",
   "execution_count": 18,
   "id": "89c9f6bb",
   "metadata": {},
   "outputs": [
    {
     "name": "stdout",
     "output_type": "stream",
     "text": [
      "root\n",
      " |-- SK_ID_PREV: integer (nullable = true)\n",
      " |-- SK_ID_CURR: integer (nullable = true)\n",
      " |-- MONTHS_BALANCE: integer (nullable = true)\n",
      " |-- CNT_INSTALMENT: double (nullable = true)\n",
      " |-- CNT_INSTALMENT_FUTURE: double (nullable = true)\n",
      " |-- NAME_CONTRACT_STATUS: string (nullable = true)\n",
      " |-- SK_DPD: integer (nullable = true)\n",
      " |-- SK_DPD_DEF: integer (nullable = true)\n",
      "\n"
     ]
    }
   ],
   "source": [
    "from pyspark.sql import SparkSession\n",
    "\n",
    "spark = SparkSession.builder.appName('ml-bank').getOrCreate()\n",
    "df_POS = spark.read.csv('../POS_CASH_balance.csv', header = True, inferSchema = True)\n",
    "df_POS.printSchema()"
   ]
  },
  {
   "cell_type": "code",
   "execution_count": 28,
   "id": "0e74e50c",
   "metadata": {},
   "outputs": [],
   "source": [
    "df_POS_pd =  df_POS.sort(\"MONTHS_BALANCE\", ascending=False).dropDuplicates(['SK_ID_CURR']).toPandas()"
   ]
  },
  {
   "cell_type": "code",
   "execution_count": 29,
   "id": "65f38a13",
   "metadata": {},
   "outputs": [],
   "source": [
    "df_POS_final = pd.merge(POS_Updated_Final, df_POS_pd[['SK_ID_CURR','NAME_CONTRACT_STATUS']], how='left', on=['SK_ID_CURR']) "
   ]
  },
  {
   "cell_type": "code",
   "execution_count": 30,
   "id": "c99da0c7",
   "metadata": {},
   "outputs": [
    {
     "data": {
      "text/plain": [
       "(337252, 8)"
      ]
     },
     "execution_count": 30,
     "metadata": {},
     "output_type": "execute_result"
    }
   ],
   "source": [
    "df_POS_final.shape"
   ]
  },
  {
   "cell_type": "code",
   "execution_count": 27,
   "id": "93b49b40",
   "metadata": {},
   "outputs": [
    {
     "data": {
      "text/plain": [
       "(936325, 8)"
      ]
     },
     "execution_count": 27,
     "metadata": {},
     "output_type": "execute_result"
    }
   ],
   "source": [
    "df_POS_pd.shape\n"
   ]
  },
  {
   "cell_type": "code",
   "execution_count": 26,
   "id": "33cf534a",
   "metadata": {},
   "outputs": [
    {
     "data": {
      "text/plain": [
       "(337252, 7)"
      ]
     },
     "execution_count": 26,
     "metadata": {},
     "output_type": "execute_result"
    }
   ],
   "source": [
    "POS_Updated_Final.shape"
   ]
  },
  {
   "cell_type": "code",
   "execution_count": 33,
   "id": "39147ef3",
   "metadata": {},
   "outputs": [
    {
     "data": {
      "text/html": [
       "<div>\n",
       "<style scoped>\n",
       "    .dataframe tbody tr th:only-of-type {\n",
       "        vertical-align: middle;\n",
       "    }\n",
       "\n",
       "    .dataframe tbody tr th {\n",
       "        vertical-align: top;\n",
       "    }\n",
       "\n",
       "    .dataframe thead th {\n",
       "        text-align: right;\n",
       "    }\n",
       "</style>\n",
       "<table border=\"1\" class=\"dataframe\">\n",
       "  <thead>\n",
       "    <tr style=\"text-align: right;\">\n",
       "      <th></th>\n",
       "      <th>SK_ID_PREV</th>\n",
       "      <th>SK_ID_CURR</th>\n",
       "      <th>MONTHS_BALANCE</th>\n",
       "      <th>CNT_INSTALMENT</th>\n",
       "      <th>CNT_INSTALMENT_FUTURE</th>\n",
       "      <th>NAME_CONTRACT_STATUS</th>\n",
       "      <th>SK_DPD</th>\n",
       "      <th>SK_DPD_DEF</th>\n",
       "    </tr>\n",
       "  </thead>\n",
       "  <tbody>\n",
       "    <tr>\n",
       "      <th>289289</th>\n",
       "      <td>2413549</td>\n",
       "      <td>348018</td>\n",
       "      <td>-1</td>\n",
       "      <td>12.0</td>\n",
       "      <td>3.0</td>\n",
       "      <td>Active</td>\n",
       "      <td>0</td>\n",
       "      <td>0</td>\n",
       "    </tr>\n",
       "    <tr>\n",
       "      <th>206155</th>\n",
       "      <td>2543105</td>\n",
       "      <td>283376</td>\n",
       "      <td>-12</td>\n",
       "      <td>4.0</td>\n",
       "      <td>0.0</td>\n",
       "      <td>Completed</td>\n",
       "      <td>0</td>\n",
       "      <td>0</td>\n",
       "    </tr>\n",
       "    <tr>\n",
       "      <th>310057</th>\n",
       "      <td>1377053</td>\n",
       "      <td>106259</td>\n",
       "      <td>-32</td>\n",
       "      <td>10.0</td>\n",
       "      <td>0.0</td>\n",
       "      <td>Completed</td>\n",
       "      <td>0</td>\n",
       "      <td>0</td>\n",
       "    </tr>\n",
       "    <tr>\n",
       "      <th>6986</th>\n",
       "      <td>1277620</td>\n",
       "      <td>159441</td>\n",
       "      <td>-9</td>\n",
       "      <td>6.0</td>\n",
       "      <td>0.0</td>\n",
       "      <td>Completed</td>\n",
       "      <td>0</td>\n",
       "      <td>0</td>\n",
       "    </tr>\n",
       "    <tr>\n",
       "      <th>239807</th>\n",
       "      <td>1135199</td>\n",
       "      <td>278721</td>\n",
       "      <td>-1</td>\n",
       "      <td>6.0</td>\n",
       "      <td>2.0</td>\n",
       "      <td>Active</td>\n",
       "      <td>0</td>\n",
       "      <td>0</td>\n",
       "    </tr>\n",
       "    <tr>\n",
       "      <th>245955</th>\n",
       "      <td>2552089</td>\n",
       "      <td>149103</td>\n",
       "      <td>-23</td>\n",
       "      <td>6.0</td>\n",
       "      <td>0.0</td>\n",
       "      <td>Completed</td>\n",
       "      <td>0</td>\n",
       "      <td>0</td>\n",
       "    </tr>\n",
       "    <tr>\n",
       "      <th>220623</th>\n",
       "      <td>2152699</td>\n",
       "      <td>100962</td>\n",
       "      <td>-51</td>\n",
       "      <td>8.0</td>\n",
       "      <td>0.0</td>\n",
       "      <td>Completed</td>\n",
       "      <td>0</td>\n",
       "      <td>0</td>\n",
       "    </tr>\n",
       "    <tr>\n",
       "      <th>193587</th>\n",
       "      <td>1551482</td>\n",
       "      <td>449373</td>\n",
       "      <td>-2</td>\n",
       "      <td>6.0</td>\n",
       "      <td>0.0</td>\n",
       "      <td>Completed</td>\n",
       "      <td>0</td>\n",
       "      <td>0</td>\n",
       "    </tr>\n",
       "    <tr>\n",
       "      <th>202922</th>\n",
       "      <td>1110588</td>\n",
       "      <td>313078</td>\n",
       "      <td>-6</td>\n",
       "      <td>2.0</td>\n",
       "      <td>0.0</td>\n",
       "      <td>Completed</td>\n",
       "      <td>0</td>\n",
       "      <td>0</td>\n",
       "    </tr>\n",
       "    <tr>\n",
       "      <th>197461</th>\n",
       "      <td>1058343</td>\n",
       "      <td>216669</td>\n",
       "      <td>-2</td>\n",
       "      <td>12.0</td>\n",
       "      <td>10.0</td>\n",
       "      <td>Active</td>\n",
       "      <td>0</td>\n",
       "      <td>0</td>\n",
       "    </tr>\n",
       "  </tbody>\n",
       "</table>\n",
       "</div>"
      ],
      "text/plain": [
       "        SK_ID_PREV  SK_ID_CURR  MONTHS_BALANCE  CNT_INSTALMENT  \\\n",
       "289289     2413549      348018              -1            12.0   \n",
       "206155     2543105      283376             -12             4.0   \n",
       "310057     1377053      106259             -32            10.0   \n",
       "6986       1277620      159441              -9             6.0   \n",
       "239807     1135199      278721              -1             6.0   \n",
       "245955     2552089      149103             -23             6.0   \n",
       "220623     2152699      100962             -51             8.0   \n",
       "193587     1551482      449373              -2             6.0   \n",
       "202922     1110588      313078              -6             2.0   \n",
       "197461     1058343      216669              -2            12.0   \n",
       "\n",
       "        CNT_INSTALMENT_FUTURE NAME_CONTRACT_STATUS  SK_DPD  SK_DPD_DEF  \n",
       "289289                    3.0               Active       0           0  \n",
       "206155                    0.0            Completed       0           0  \n",
       "310057                    0.0            Completed       0           0  \n",
       "6986                      0.0            Completed       0           0  \n",
       "239807                    2.0               Active       0           0  \n",
       "245955                    0.0            Completed       0           0  \n",
       "220623                    0.0            Completed       0           0  \n",
       "193587                    0.0            Completed       0           0  \n",
       "202922                    0.0            Completed       0           0  \n",
       "197461                   10.0               Active       0           0  "
      ]
     },
     "execution_count": 33,
     "metadata": {},
     "output_type": "execute_result"
    }
   ],
   "source": []
  },
  {
   "cell_type": "code",
   "execution_count": 53,
   "id": "838859a1",
   "metadata": {},
   "outputs": [
    {
     "data": {
      "text/html": [
       "<div>\n",
       "<style scoped>\n",
       "    .dataframe tbody tr th:only-of-type {\n",
       "        vertical-align: middle;\n",
       "    }\n",
       "\n",
       "    .dataframe tbody tr th {\n",
       "        vertical-align: top;\n",
       "    }\n",
       "\n",
       "    .dataframe thead th {\n",
       "        text-align: right;\n",
       "    }\n",
       "</style>\n",
       "<table border=\"1\" class=\"dataframe\">\n",
       "  <thead>\n",
       "    <tr style=\"text-align: right;\">\n",
       "      <th></th>\n",
       "      <th>SK_ID_PREV</th>\n",
       "      <th>SK_ID_CURR</th>\n",
       "      <th>MONTHS_BALANCE</th>\n",
       "      <th>OLD_PREV_TERMS</th>\n",
       "      <th>PENDING_INSTALLMENTS</th>\n",
       "      <th>CONTRACT_STATUS</th>\n",
       "      <th>DAYS_PAST_DUE</th>\n",
       "      <th>DPD_LOW_LOANS</th>\n",
       "    </tr>\n",
       "  </thead>\n",
       "  <tbody>\n",
       "    <tr>\n",
       "      <th>93473</th>\n",
       "      <td>2685766</td>\n",
       "      <td>413216</td>\n",
       "      <td>-17</td>\n",
       "      <td>12.0</td>\n",
       "      <td>10.0</td>\n",
       "      <td>Active</td>\n",
       "      <td>0</td>\n",
       "      <td>0</td>\n",
       "    </tr>\n",
       "    <tr>\n",
       "      <th>1231971</th>\n",
       "      <td>2685766</td>\n",
       "      <td>413216</td>\n",
       "      <td>-14</td>\n",
       "      <td>12.0</td>\n",
       "      <td>7.0</td>\n",
       "      <td>Active</td>\n",
       "      <td>0</td>\n",
       "      <td>0</td>\n",
       "    </tr>\n",
       "    <tr>\n",
       "      <th>6718748</th>\n",
       "      <td>2685766</td>\n",
       "      <td>413216</td>\n",
       "      <td>-13</td>\n",
       "      <td>12.0</td>\n",
       "      <td>6.0</td>\n",
       "      <td>Active</td>\n",
       "      <td>0</td>\n",
       "      <td>0</td>\n",
       "    </tr>\n",
       "    <tr>\n",
       "      <th>7250944</th>\n",
       "      <td>2685766</td>\n",
       "      <td>413216</td>\n",
       "      <td>-11</td>\n",
       "      <td>8.0</td>\n",
       "      <td>0.0</td>\n",
       "      <td>Completed</td>\n",
       "      <td>0</td>\n",
       "      <td>0</td>\n",
       "    </tr>\n",
       "    <tr>\n",
       "      <th>7747274</th>\n",
       "      <td>2685766</td>\n",
       "      <td>413216</td>\n",
       "      <td>-12</td>\n",
       "      <td>12.0</td>\n",
       "      <td>5.0</td>\n",
       "      <td>Active</td>\n",
       "      <td>0</td>\n",
       "      <td>0</td>\n",
       "    </tr>\n",
       "    <tr>\n",
       "      <th>8111648</th>\n",
       "      <td>2685766</td>\n",
       "      <td>413216</td>\n",
       "      <td>-18</td>\n",
       "      <td>12.0</td>\n",
       "      <td>11.0</td>\n",
       "      <td>Active</td>\n",
       "      <td>0</td>\n",
       "      <td>0</td>\n",
       "    </tr>\n",
       "    <tr>\n",
       "      <th>8769362</th>\n",
       "      <td>2685766</td>\n",
       "      <td>413216</td>\n",
       "      <td>-16</td>\n",
       "      <td>12.0</td>\n",
       "      <td>9.0</td>\n",
       "      <td>Active</td>\n",
       "      <td>0</td>\n",
       "      <td>0</td>\n",
       "    </tr>\n",
       "    <tr>\n",
       "      <th>8838302</th>\n",
       "      <td>2685766</td>\n",
       "      <td>413216</td>\n",
       "      <td>-15</td>\n",
       "      <td>12.0</td>\n",
       "      <td>8.0</td>\n",
       "      <td>Active</td>\n",
       "      <td>0</td>\n",
       "      <td>0</td>\n",
       "    </tr>\n",
       "    <tr>\n",
       "      <th>9704618</th>\n",
       "      <td>2685766</td>\n",
       "      <td>413216</td>\n",
       "      <td>-19</td>\n",
       "      <td>12.0</td>\n",
       "      <td>12.0</td>\n",
       "      <td>Active</td>\n",
       "      <td>0</td>\n",
       "      <td>0</td>\n",
       "    </tr>\n",
       "  </tbody>\n",
       "</table>\n",
       "</div>"
      ],
      "text/plain": [
       "         SK_ID_PREV  SK_ID_CURR  MONTHS_BALANCE  OLD_PREV_TERMS  \\\n",
       "93473       2685766      413216             -17            12.0   \n",
       "1231971     2685766      413216             -14            12.0   \n",
       "6718748     2685766      413216             -13            12.0   \n",
       "7250944     2685766      413216             -11             8.0   \n",
       "7747274     2685766      413216             -12            12.0   \n",
       "8111648     2685766      413216             -18            12.0   \n",
       "8769362     2685766      413216             -16            12.0   \n",
       "8838302     2685766      413216             -15            12.0   \n",
       "9704618     2685766      413216             -19            12.0   \n",
       "\n",
       "         PENDING_INSTALLMENTS CONTRACT_STATUS  DAYS_PAST_DUE  DPD_LOW_LOANS  \n",
       "93473                    10.0          Active              0              0  \n",
       "1231971                   7.0          Active              0              0  \n",
       "6718748                   6.0          Active              0              0  \n",
       "7250944                   0.0       Completed              0              0  \n",
       "7747274                   5.0          Active              0              0  \n",
       "8111648                  11.0          Active              0              0  \n",
       "8769362                   9.0          Active              0              0  \n",
       "8838302                   8.0          Active              0              0  \n",
       "9704618                  12.0          Active              0              0  "
      ]
     },
     "execution_count": 53,
     "metadata": {},
     "output_type": "execute_result"
    }
   ],
   "source": [
    "temp_df = POS_Updated[(POS_Updated['SK_ID_PREV']==id_)]\n",
    "temp_df"
   ]
  },
  {
   "cell_type": "code",
   "execution_count": null,
   "id": "0387abf1",
   "metadata": {},
   "outputs": [],
   "source": [
    "POS_Updated_Final_1 = pd.merge(POS_Updated_Final,\n",
    "                 new_df,\n",
    "                 on='SK_ID_PREV', \n",
    "                 how='outer')\n"
   ]
  },
  {
   "cell_type": "code",
   "execution_count": null,
   "id": "30616b13",
   "metadata": {},
   "outputs": [],
   "source": [
    "POS_Updated_Final_1.head()"
   ]
  },
  {
   "cell_type": "code",
   "execution_count": null,
   "id": "40bd2fd5",
   "metadata": {},
   "outputs": [],
   "source": []
  },
  {
   "cell_type": "code",
   "execution_count": null,
   "id": "0f38826f",
   "metadata": {},
   "outputs": [],
   "source": []
  },
  {
   "cell_type": "code",
   "execution_count": null,
   "id": "f4fd8432",
   "metadata": {},
   "outputs": [],
   "source": []
  },
  {
   "cell_type": "code",
   "execution_count": null,
   "id": "74718bda",
   "metadata": {},
   "outputs": [],
   "source": [
    "new_df.shape"
   ]
  },
  {
   "cell_type": "code",
   "execution_count": 46,
   "id": "985b6dd6",
   "metadata": {},
   "outputs": [
    {
     "data": {
      "text/plain": [
       "array([1803195, 1715348, 1784872, ..., 2452932, 1980876, 2308284],\n",
       "      dtype=int64)"
      ]
     },
     "execution_count": 46,
     "metadata": {},
     "output_type": "execute_result"
    }
   ],
   "source": [
    "POS_Updated['SK_ID_PREV'].unique()"
   ]
  },
  {
   "cell_type": "code",
   "execution_count": null,
   "id": "ee80f4ec",
   "metadata": {},
   "outputs": [],
   "source": [
    "POS_Updated['SK_ID_PREV'].nunique()"
   ]
  },
  {
   "cell_type": "code",
   "execution_count": 50,
   "id": "64cfad02",
   "metadata": {
    "scrolled": true
   },
   "outputs": [
    {
     "name": "stderr",
     "output_type": "stream",
     "text": [
      "<ipython-input-50-66a53396aca6>:1: UserWarning: Boolean Series key will be reindexed to match DataFrame index.\n",
      "  POS_Updated[(POS_Updated['SK_ID_PREV']==id_)][ (POS_Updated['MONTHS_BALANCE']== max(POS_Updated[POS_Updated['SK_ID_PREV']==id_]['MONTHS_BALANCE']))]['CONTRACT_STATUS'].values[0]\n"
     ]
    },
    {
     "data": {
      "text/plain": [
       "'Active'"
      ]
     },
     "execution_count": 50,
     "metadata": {},
     "output_type": "execute_result"
    }
   ],
   "source": []
  },
  {
   "cell_type": "code",
   "execution_count": null,
   "id": "81d1dd15",
   "metadata": {},
   "outputs": [],
   "source": []
  },
  {
   "cell_type": "markdown",
   "id": "4daa492b",
   "metadata": {},
   "source": [
    "Questions:\n",
    "1. How to take the mode of a colum in pandas \n",
    "2. How to cross match the contract status and last day of months intallmentes \n"
   ]
  },
  {
   "cell_type": "code",
   "execution_count": 16,
   "id": "460c8dcc",
   "metadata": {
    "scrolled": true
   },
   "outputs": [
    {
     "data": {
      "text/html": [
       "<div>\n",
       "<style scoped>\n",
       "    .dataframe tbody tr th:only-of-type {\n",
       "        vertical-align: middle;\n",
       "    }\n",
       "\n",
       "    .dataframe tbody tr th {\n",
       "        vertical-align: top;\n",
       "    }\n",
       "\n",
       "    .dataframe thead th {\n",
       "        text-align: right;\n",
       "    }\n",
       "</style>\n",
       "<table border=\"1\" class=\"dataframe\">\n",
       "  <thead>\n",
       "    <tr style=\"text-align: right;\">\n",
       "      <th></th>\n",
       "      <th>SK_ID_PREV</th>\n",
       "      <th>SK_ID_CURR</th>\n",
       "      <th>MONTHS_BALANCE</th>\n",
       "      <th>OLD_PREV_TERMS</th>\n",
       "      <th>DAYS_PAST_DUE</th>\n",
       "      <th>DPD_LOW_LOANS</th>\n",
       "      <th>PENDING_INSTALLMENTS</th>\n",
       "      <th>CONTRACT_STATUS</th>\n",
       "    </tr>\n",
       "  </thead>\n",
       "  <tbody>\n",
       "    <tr>\n",
       "      <th>0</th>\n",
       "      <td>1000001</td>\n",
       "      <td>158271</td>\n",
       "      <td>-8</td>\n",
       "      <td>12.0</td>\n",
       "      <td>0</td>\n",
       "      <td>0</td>\n",
       "      <td>23.0</td>\n",
       "      <td>3</td>\n",
       "    </tr>\n",
       "    <tr>\n",
       "      <th>1</th>\n",
       "      <td>1000002</td>\n",
       "      <td>101962</td>\n",
       "      <td>-50</td>\n",
       "      <td>6.0</td>\n",
       "      <td>0</td>\n",
       "      <td>0</td>\n",
       "      <td>10.0</td>\n",
       "      <td>5</td>\n",
       "    </tr>\n",
       "    <tr>\n",
       "      <th>2</th>\n",
       "      <td>1000003</td>\n",
       "      <td>252457</td>\n",
       "      <td>-1</td>\n",
       "      <td>12.0</td>\n",
       "      <td>0</td>\n",
       "      <td>0</td>\n",
       "      <td>42.0</td>\n",
       "      <td>4</td>\n",
       "    </tr>\n",
       "    <tr>\n",
       "      <th>3</th>\n",
       "      <td>1000004</td>\n",
       "      <td>260094</td>\n",
       "      <td>-22</td>\n",
       "      <td>10.0</td>\n",
       "      <td>0</td>\n",
       "      <td>0</td>\n",
       "      <td>49.0</td>\n",
       "      <td>8</td>\n",
       "    </tr>\n",
       "    <tr>\n",
       "      <th>4</th>\n",
       "      <td>1000005</td>\n",
       "      <td>176456</td>\n",
       "      <td>-46</td>\n",
       "      <td>10.0</td>\n",
       "      <td>0</td>\n",
       "      <td>0</td>\n",
       "      <td>55.0</td>\n",
       "      <td>11</td>\n",
       "    </tr>\n",
       "  </tbody>\n",
       "</table>\n",
       "</div>"
      ],
      "text/plain": [
       "   SK_ID_PREV  SK_ID_CURR  MONTHS_BALANCE  OLD_PREV_TERMS  DAYS_PAST_DUE  \\\n",
       "0     1000001      158271              -8            12.0              0   \n",
       "1     1000002      101962             -50             6.0              0   \n",
       "2     1000003      252457              -1            12.0              0   \n",
       "3     1000004      260094             -22            10.0              0   \n",
       "4     1000005      176456             -46            10.0              0   \n",
       "\n",
       "   DPD_LOW_LOANS  PENDING_INSTALLMENTS  CONTRACT_STATUS  \n",
       "0              0                  23.0                3  \n",
       "1              0                  10.0                5  \n",
       "2              0                  42.0                4  \n",
       "3              0                  49.0                8  \n",
       "4              0                  55.0               11  "
      ]
     },
     "execution_count": 16,
     "metadata": {},
     "output_type": "execute_result"
    }
   ],
   "source": [
    "POS_Updated_Final.head(5)"
   ]
  },
  {
   "cell_type": "code",
   "execution_count": 65,
   "id": "cc2398c8",
   "metadata": {},
   "outputs": [
    {
     "data": {
      "text/html": [
       "<div>\n",
       "<style scoped>\n",
       "    .dataframe tbody tr th:only-of-type {\n",
       "        vertical-align: middle;\n",
       "    }\n",
       "\n",
       "    .dataframe tbody tr th {\n",
       "        vertical-align: top;\n",
       "    }\n",
       "\n",
       "    .dataframe thead th {\n",
       "        text-align: right;\n",
       "    }\n",
       "</style>\n",
       "<table border=\"1\" class=\"dataframe\">\n",
       "  <thead>\n",
       "    <tr style=\"text-align: right;\">\n",
       "      <th></th>\n",
       "      <th>SK_ID_PREV</th>\n",
       "      <th>SK_ID_CURR</th>\n",
       "      <th>MONTHS_BALANCE</th>\n",
       "      <th>OLD_PREV_TERMS</th>\n",
       "      <th>DAYS_PAST_DUE</th>\n",
       "      <th>DPD_LOW_LOANS</th>\n",
       "      <th>PENDING_INSTALLMENTS</th>\n",
       "      <th>CONTRACT_STATUS</th>\n",
       "    </tr>\n",
       "  </thead>\n",
       "  <tbody>\n",
       "    <tr>\n",
       "      <th>359065</th>\n",
       "      <td>1673007</td>\n",
       "      <td>228354</td>\n",
       "      <td>-7</td>\n",
       "      <td>23.958333</td>\n",
       "      <td>0</td>\n",
       "      <td>0</td>\n",
       "      <td>299.0</td>\n",
       "      <td>24</td>\n",
       "    </tr>\n",
       "  </tbody>\n",
       "</table>\n",
       "</div>"
      ],
      "text/plain": [
       "        SK_ID_PREV  SK_ID_CURR  MONTHS_BALANCE  OLD_PREV_TERMS  DAYS_PAST_DUE  \\\n",
       "359065     1673007      228354              -7       23.958333              0   \n",
       "\n",
       "        DPD_LOW_LOANS  PENDING_INSTALLMENTS  CONTRACT_STATUS  \n",
       "359065              0                 299.0               24  "
      ]
     },
     "execution_count": 65,
     "metadata": {},
     "output_type": "execute_result"
    }
   ],
   "source": [
    "POS_Updated_Final[POS_Updated_Final['SK_ID_PREV']==1673007]"
   ]
  },
  {
   "cell_type": "code",
   "execution_count": 63,
   "id": "fc2f5e5c",
   "metadata": {},
   "outputs": [
    {
     "data": {
      "text/plain": [
       "(936325, 8)"
      ]
     },
     "execution_count": 63,
     "metadata": {},
     "output_type": "execute_result"
    }
   ],
   "source": [
    "POS_Updated_Final.shape"
   ]
  },
  {
   "cell_type": "code",
   "execution_count": null,
   "id": "9b852d93",
   "metadata": {},
   "outputs": [],
   "source": []
  },
  {
   "cell_type": "markdown",
   "id": "491d7a96",
   "metadata": {},
   "source": [
    "After finishing the table export it to a new csv file with the changes"
   ]
  },
  {
   "cell_type": "code",
   "execution_count": 34,
   "id": "28e825c4",
   "metadata": {},
   "outputs": [],
   "source": [
    "POS_Updated_Final.to_csv(\"POS_v2.csv\", index = None)"
   ]
  }
 ],
 "metadata": {
  "kernelspec": {
   "display_name": "Python 3",
   "language": "python",
   "name": "python3"
  },
  "language_info": {
   "codemirror_mode": {
    "name": "ipython",
    "version": 3
   },
   "file_extension": ".py",
   "mimetype": "text/x-python",
   "name": "python",
   "nbconvert_exporter": "python",
   "pygments_lexer": "ipython3",
   "version": "3.8.8"
  }
 },
 "nbformat": 4,
 "nbformat_minor": 5
}
